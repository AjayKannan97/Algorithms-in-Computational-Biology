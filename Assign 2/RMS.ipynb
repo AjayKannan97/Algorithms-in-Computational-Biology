{
 "cells": [
  {
   "cell_type": "code",
   "execution_count": 96,
   "metadata": {},
   "outputs": [],
   "source": [
    "from random import randint\n",
    "from collections import Counter"
   ]
  },
  {
   "cell_type": "code",
   "execution_count": 2,
   "metadata": {},
   "outputs": [],
   "source": [
    "def HammingDistance(str1, str2):\n",
    "    i = 0\n",
    "    count = 0\n",
    " \n",
    "    while(i < len(str1)):\n",
    "        if(str1[i] != str2[i]):\n",
    "            count += 1\n",
    "        i += 1\n",
    "    return count"
   ]
  },
  {
   "cell_type": "code",
   "execution_count": 181,
   "metadata": {},
   "outputs": [],
   "source": [
    "def score(motifs):\n",
    "    score = 0\n",
    "    for i in range(len(motifs[0])):\n",
    "        motif = ''.join([motifs[j][i] for j in range(len(motifs))])\n",
    "        score += min([HammingDistance(motif, seq*len(motif)) for seq in 'ACGT'])\n",
    "    return score\n",
    "\n",
    "def profile_most_probable_kmer(dna, k, prof):\n",
    "    nuc_loc = {nucleotide:index for index,nucleotide in enumerate('ACGT')}\n",
    "    max_prob = [-1, None]\n",
    "    for i in range(len(dna)-k+1):\n",
    "        current_prob = 1\n",
    "        for j, nucleotide in enumerate(dna[i:i+k]):\n",
    "            current_prob *= prof[j][nuc_loc[nucleotide]]\n",
    "        if current_prob > max_prob[0]:\n",
    "            max_prob = [current_prob, dna[i:i+k]]\n",
    "    return max_prob[1]\n",
    "\n",
    "def profile_with_pseudocounts(motifs,k):\n",
    "    prof = []\n",
    "    for i in range(len(motifs[0])):\n",
    "        freq = Counter([motifs[j][i] for j in range(len(motifs))])\n",
    "        for j in ['A','C','G','T']:\n",
    "            if j not in freq:\n",
    "                freq[j] = 1\n",
    "            else:\n",
    "                freq[j] += 1\n",
    "        t = []\n",
    "        g = sum(freq.values())\n",
    "        for i in ['A','C','G','T']:\n",
    "            t.append(freq[i] / g)\n",
    "        prof.append(t)\n",
    "    return prof\n",
    "\n",
    "\n",
    "def randomized_motif_search(dna,k,t):\n",
    "    rand_ints = [randint(0,len(dna[0])-k) for a in range(t)]\n",
    "    motifs = [dna[i][r:r+k] for i,r in enumerate(rand_ints)]\n",
    "    best_score = [score(motifs), motifs]\n",
    "    while True:\n",
    "        prof = profile_with_pseudocounts(motifs,k)\n",
    "        motifs = [profile_most_probable_kmer(seq,k,prof) for seq in dna]\n",
    "        current_score = score(motifs)\n",
    "        if current_score < best_score[0]:\n",
    "            best_score = [current_score, motifs]\n",
    "        else:\n",
    "            return best_score\n",
    "        \n",
    "def gibbs_sampler(dna,k,t,N):\n",
    "    rand_ints = [randint(0,len(dna[0])-k) for a in range(t)]\n",
    "    motifs = [dna_list[i][r:r+k] for i,r in enumerate(rand_ints)]\n",
    "    best_score = [score(motifs), motifs]\n",
    "    for i in range(N):\n",
    "        r = randint(0,t-1)\n",
    "        current_profile = profile_with_pseudocounts([motif for index, motif in enumerate(motifs) if index!=r],k)\n",
    "        motifs = [profile_most_probable_kmer(dna[index],k,current_profile) if index == r else motif for index,motif in enumerate(motifs)]\n",
    "        current_score = score(motifs)\n",
    "        if current_score < best_score[0]:\n",
    "            best_score = [current_score, motifs]\n",
    "\n",
    "    return best_score\n",
    "\n",
    "def rms(k,t,N,dna_list):\n",
    "    best_motifs = [k*t, None]\n",
    "    for repeat in range(N):\n",
    "        current_motifs = randomized_motif_search(dna_list,k,t)\n",
    "        if current_motifs[0] < best_motifs[0]:\n",
    "            best_motifs = current_motifs\n",
    "\n",
    "    print(best_motifs[1])\n",
    "\n",
    "def gibbs(k,t,N,dna_list):\n",
    "    best_motifs = [k*t, None]\n",
    "    for repeat in range(30):\n",
    "        current_motifs = gibbs_sampler(dna_list,k,t,N)\n",
    "        if current_motifs[0] < best_motifs[0]:\n",
    "            best_motifs = current_motifs\n",
    "\n",
    "    print(best_motifs[1])\n",
    "    \n",
    "k, t, N = 15, 10, 1000"
   ]
  },
  {
   "cell_type": "code",
   "execution_count": 182,
   "metadata": {},
   "outputs": [
    {
     "name": "stdout",
     "output_type": "stream",
     "text": [
      "['TTTTCTC', 'GGTTCTA', 'AGTTATC', 'AGTTCTA', 'AGATCTA']\n"
     ]
    }
   ],
   "source": [
    "with open('motif1.txt') as input_data:\n",
    "    k,t = map(int, input_data.readline().split())\n",
    "    dna_list = [line.strip() for line in input_data.readlines()]\n",
    "\n",
    "rms(k,t,N,dna_list)"
   ]
  },
  {
   "cell_type": "code",
   "execution_count": 183,
   "metadata": {},
   "outputs": [
    {
     "name": "stdout",
     "output_type": "stream",
     "text": [
      "['ATTTTTC', 'GGTTCTA', 'AGTTATC', 'AGTTCTA', 'AGATCTA']\n"
     ]
    }
   ],
   "source": [
    "with open('motif2.txt') as input_data:\n",
    "    k,t,N = map(int, input_data.readline().split())\n",
    "    dna_list = [line.strip() for line in input_data.readlines()]\n",
    "\n",
    "gibbs(k,t,N,dna_list)"
   ]
  },
  {
   "cell_type": "code",
   "execution_count": 28,
   "metadata": {},
   "outputs": [
    {
     "name": "stdout",
     "output_type": "stream",
     "text": [
      "['CGAGAGG', 'CGAGAGA', 'GGGGAGA', 'CGGGAGA', 'CGGGAGA', 'CGGGAGA', 'CGAGAGC', 'CGAGAGA', 'CGAGAGA', 'CGAGAGC']\n",
      "['AAAGAAA', 'AAATAAA', 'AAATAAA', 'AAAAAAA', 'AAATAAA', 'AAAGAAT', 'AAAGAAA', 'AAAGGAA', 'AAAGAGA', 'AGAGAAA']\n",
      "['CGAGAGG', 'CGAGAGA', 'GGGGAGA', 'CGGGAGA', 'CGGGAGA', 'CGGGAGA', 'CGAGAGC', 'CGAGAGA', 'CGAGAGA', 'CGAGAGC']\n",
      "['AGTTCCG', 'AGCTCCG', 'AGCTTCG', 'AGCTCAG', 'AGCTCCG']\n",
      "['AAAGAAA', 'AAATAAA', 'AAATAAA', 'AAAAAAA', 'AAATAAA']\n",
      "['GGACTCG', 'GGACTCG', 'GGACTCG', 'CGACTCG', 'GGACTCC']\n"
     ]
    }
   ],
   "source": [
    "with open('motif_dataset.txt') as input_data:\n",
    "    dna_list = [line.strip() for line in input_data.readlines()]\n",
    "\n",
    "rms(k,t,1000,dna_list)\n",
    "rms(k,t,10000,dna_list)\n",
    "rms(k,t,100000,dna_list)\n",
    "gibbs(k,t,1000,dna_list)\n",
    "gibbs(k,t,2000,dna_list)\n",
    "gibbs(k,t,10000,dna_list)"
   ]
  },
  {
   "cell_type": "code",
   "execution_count": 59,
   "metadata": {},
   "outputs": [
    {
     "name": "stdout",
     "output_type": "stream",
     "text": [
      "['TCTCGGGG', 'CCAAGGTG', 'TACAGGCG', 'TTCAGGTG', 'TCCACGTG']\n",
      "['TCTCGGGG', 'CCAAGGTG', 'TACAGGCG', 'TTCAGGTG', 'TCCACGTG']\n"
     ]
    }
   ],
   "source": [
    "with open('RandomizedMotifSearch/inputs/input_1.txt') as input_data:\n",
    "    k,t = map(int, input_data.readline().split())\n",
    "    dna_list = [line.strip() for line in input_data.readlines()]\n",
    "rms(k,t,N,dna_list)\n",
    "with open('RandomizedMotifSearch/outputs/output_1.txt') as output_data:\n",
    "    dna_list_1 = [line.strip() for line in output_data.readlines()]\n",
    "print(dna_list_1)"
   ]
  },
  {
   "cell_type": "code",
   "execution_count": 58,
   "metadata": {},
   "outputs": [
    {
     "name": "stdout",
     "output_type": "stream",
     "text": [
      "['TCTCGGGG', 'TGTAAGTG', 'TACAGGCG', 'TTCAGGTG', 'TCCACGTG']\n",
      "['CGATAA', 'GGTTAA', 'GGTATA', 'GGTTAA', 'GGTTAC', 'GGTTAA', 'GGCCAA', 'GGTTAA']\n",
      "['TTAACC', 'ATAACT', 'TTAACC', 'TGAAGT', 'TTAACC', 'TTAAGC', 'TTAACC', 'TGAACA']\n",
      "['CATGGGGAAAACTGA', 'CCTCTCGATCACCGA', 'CCTATAGATCACCGA', 'CCGATTGATCACCGA', 'CCTTGTGCAGACCGA', 'CCTTGCCTTCACCGA', 'CCTTGTTGCCACCGA', 'ACTTGTGATCACCTT', 'CCTTGTGATCAATTA', 'CCTTGTGATCTGTGA', 'CCTTGTGATCACTCC', 'AACTGTGATCACCGA', 'CCTTAGTATCACCGA', 'CCTTGTGAAATCCGA', 'CCTTGTCGCCACCGA', 'TGTTGTGATCACCGC', 'CACCGTGATCACCGA', 'CCTTGGTTTCACCGA', 'CCTTTGCATCACCGA', 'CCTTGTGATTTACGA']\n"
     ]
    }
   ],
   "source": [
    "for i in range(1,5):\n",
    "    with open('RandomizedMotifSearch/inputs/input_'+str(i)+'.txt') as input_data:\n",
    "        k,t = map(int, input_data.readline().split())\n",
    "        dna_list = [line.strip() for line in input_data.readlines()]\n",
    "    rms(k,t,N,dna_list)"
   ]
  },
  {
   "cell_type": "code",
   "execution_count": 53,
   "metadata": {},
   "outputs": [
    {
     "name": "stdout",
     "output_type": "stream",
     "text": [
      "['TGATAAGCATGAATA', 'TAAACCTCCTCACTT', 'TAACAATCCTCGAGT', 'TAGGGATCCTCACTT', 'TAACAATCCAGCCTT', 'TAACACAACTCACTT', 'TAACTGCCCTCACTT', 'TAACACTCCTCCCTG', 'ACTCAATCCTCACTT', 'TAACAATGTGCACTT', 'TAACAAAGTTCACTT', 'TAACAATCCTGCGTT', 'TAACAATCTATACTT', 'TGGTAATCCTCACTT', 'TAACAAAGATCACTT', 'TAACCCGCCTCACTT', 'CAACAATCCTCACGA', 'TAACACAGCTCACTT', 'TAAATCTCCTCACTT', 'TAACAATCCTCAGGC']\n",
      "['TGATGCTAGAGCACC', 'TGCACTTATGGCACT', 'TGCGGGCCTGGCACT', 'TGCACGTATGGCACT', 'TGCGGATAAATCACT', 'TGCGGATATGGCGAA', 'TGATCATATGGCACT', 'TGCGTCCATGGCACT', 'TGCGGCGCTGGCACT', 'TGCGGAGCCGGCACT', 'TGCGGATTCAGCACT', 'GCCGGATATGGCACG', 'TGCGGATATGCGGCT', 'GTGGGATATGGCACT', 'TTGAGATATGGCACT', 'CGCGGATATGGCAGA', 'TGCGGATATCTAACT', 'TGCGATGATGGCACT', 'TGCGGACCGGGCACT', 'TGCGGATATGGTCAT']\n",
      "['ATACCACGTATTAAG', 'ATATGACGAAACAAA', 'ATAAGGAGAAACAAA', 'CAAACCCGAAACAAG', 'ATAACCCGACCGAAA', 'ATAACCTCGAACAAA', 'ATCTTCCGAAACAAA', 'ATATGGCGAAACAAA', 'ATAACGTAAAACAAA', 'ATAAATGGAAACAAA', 'ATAACCCGAAACTGG', 'ATAACCTAGAACAAA', 'ATAACCCGGGTCAAA', 'CGGACCCGAAACAAA', 'ATAACCCGAACAGAA', 'TTAACCCGAAACACT', 'ATAACGTCAAACAAA', 'ATAACCCGAAAGTCA', 'ACTGCCCGAAACAAA', 'ATAACCCTCGACAAA']\n",
      "['TGCATACGTACGACT', 'TGCGACCGGGCTATC', 'TGCTCTGGGGCTATC', 'TGCTTGCGGGCACGC', 'TGCTTGCGGGCTGCA', 'TAGGTGCGGGCTATC', 'TGCTTCTAGGCTATC', 'TGCTTGGATGCTATC', 'ATGTTGCGGGCTATC', 'TGCTTTACGGCTATC', 'CACTTGCGGGCTATA', 'TGCTTGCCCCCTATC', 'TGCTTGCGGCGAATC', 'TGCTCATGGGCTATC', 'TGCAGACGGGCTATC', 'AGCTTGCGGGCTACT', 'TGCTTGCGCATTATC', 'TGGAAGCGGGCTATC', 'TGCTTGCGGGACGTC', 'TGCTTGGTTGCTATC']\n"
     ]
    }
   ],
   "source": [
    "for i in range(1,5):\n",
    "    with open('rand_testcases/test_'+str(i)+'.txt') as input_data:\n",
    "        k,t = map(int, input_data.readline().split())\n",
    "        dna_list = [line.strip() for line in input_data.readlines()]\n",
    "    rms(k,t,N,dna_list)\n",
    "    \n",
    "    \n",
    "    \n",
    "    "
   ]
  },
  {
   "cell_type": "code",
   "execution_count": 180,
   "metadata": {},
   "outputs": [
    {
     "name": "stdout",
     "output_type": "stream",
     "text": [
      "['GGTACGTGTAGACCT', 'GTAACGAGCATCCGA', 'GACCAAACTTATTCT', 'ATGAATGAACCCGGA', 'TGTACGCAGCATAAC', 'CGTCGTCCGCGTCGC', 'CAATATAGACTAAAT', 'GAAGTCATATTCTGG', 'CATTCTGTCTACTCA', 'AAGATAGCCGAACCC', 'AGTGGGACATTTGAG', 'ATTTATCGGGGTTAG', 'AATGCCATTACCTGG', 'TGATCCACAGTGTAG', 'GGTAGTACAAAGCGG', 'ATTGATATATGTTAT', 'TAAAAAAGATAGCCA', 'GTGAGTAAGTAATGG', 'ATTAATCTACATTCG', 'CCTGACAGTCTCGGC']\n",
      "['TCAGTCTGGCCTTGC', 'CGATCGACTGGAAAG', 'CATGCCCCCACCACA', 'CGAAGAGGCGCGAAA', 'GGTTGCCCCACTTGA', 'CGGTAAGGGGTACGG', 'CGCGACCAAAAAATA', 'CTGCCAGTCAGCTTA', 'TGCTAAGTATTGCGC', 'GCCCCCACCGGCACA', 'CTAGCCCCCCGTTAC', 'ACAGCTCCCACACGA', 'CAAACGGTGAGCCCC', 'TGCCCGGCCAGACTC', 'CGAGGTTCCTATCCG', 'TTCGGCGCCAGAATC', 'TAAATGCATGCACCA', 'GTCCGCTTAAAACAC', 'CAGGCATCCAGCGTG', 'TTCCGAAGCCTACTA']\n",
      "['ACCCGCTGAGTCGGC', 'CTCGCGAGGTTTGGC', 'TGCGCATAGGTGAAA', 'TTAAGCTTGTTTCGG', 'TACTATCTAATTTGT', 'ATGTCGAAGTTAATG', 'CGCTCATGCGGTTAC', 'CAGGCGCGCCGCACC', 'CGCGTGACATTCTAC', 'ACCGGACAACCGAGT', 'CTGGCGATCGCCCGG', 'CGCTCGAGCGGACGC', 'CTTCAGGCAAAACAA', 'CAGCCGCATATAATA', 'AGTTGTACCACGAGC', 'CTCCAGTACGGCCGC', 'CGGTGGTAGCCCGAC', 'CAAACAGTCTTTGGT', 'ATATCTTGGTCACGG', 'GGTACGGGCAGCGGC']\n",
      "['GTTTGTAGATACCCT', 'CACGCCTAAGACCTT', 'CACTTGCGGCGCAGT', 'TAATTATGATTTTCG', 'TGGCAGGCGGCCTAT', 'AACCACACTACAGTT', 'TATCACAGCTACCAC', 'TCTAGTAGCAACAAT', 'ATTTACGGCGACGTG', 'CTTAGTCTGCCGTCC', 'ATCGAACATGAAGAT', 'AGGCTACAGACATTG', 'CTTTGCCCGTTCTCT', 'GCCCGCCGACAGTCT', 'AGATTCCGCTGAGGC', 'GTTTTCCCGCACTAC', 'TCGGTGTGAAGCTAC', 'CCGAAAGTATAGTTC', 'AAACTCATCCTTGGA', 'CAGGGCGGGGACATT']\n"
     ]
    }
   ],
   "source": [
    "for i in range(1,5):\n",
    "    with open('gibbs_testcases/test_'+str(i)+'.txt') as input_data:\n",
    "        k,t,N = map(int, input_data.readline().split())\n",
    "        dna_list = [line.strip() for line in input_data.readlines()]\n",
    "    gibbs(k,t,N,dna_list)\n",
    "    "
   ]
  },
  {
   "cell_type": "code",
   "execution_count": null,
   "metadata": {},
   "outputs": [],
   "source": [
    "def profile(motifs):\n",
    "    prof = []\n",
    "    for i in range(len(motifs[0])):\n",
    "        col = ''.join([motifs[j][i] for j in range(len(motifs))])\n",
    "        prof.append([float(col.count(i))/float(len(col)) for i in 'ACGT'])\n",
    "    return prof\n",
    "\n",
    " "
   ]
  }
 ],
 "metadata": {
  "kernelspec": {
   "display_name": "Python 3",
   "language": "python",
   "name": "python3"
  },
  "language_info": {
   "codemirror_mode": {
    "name": "ipython",
    "version": 3
   },
   "file_extension": ".py",
   "mimetype": "text/x-python",
   "name": "python",
   "nbconvert_exporter": "python",
   "pygments_lexer": "ipython3",
   "version": "3.8.3"
  }
 },
 "nbformat": 4,
 "nbformat_minor": 4
}
