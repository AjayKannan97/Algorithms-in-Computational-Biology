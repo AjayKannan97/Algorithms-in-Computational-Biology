{
 "cells": [
  {
   "cell_type": "code",
   "execution_count": 65,
   "metadata": {},
   "outputs": [],
   "source": [
    "def getZarr(string, z):\n",
    "    n = len(string)\n",
    "    l, r, k = 0, 0, 0\n",
    "    for i in range(1, n):\n",
    "        if i > r:\n",
    "            l, r = i, i\n",
    "            while r < n and string[r - l] == string[r]:\n",
    "                r += 1\n",
    "            z[i] = r - l\n",
    "            r -= 1\n",
    "        else:\n",
    "            k = i - l\n",
    "            if z[k] < r - i + 1:\n",
    "                z[i] = z[k]\n",
    "            else:\n",
    "                l = i\n",
    "                while r < n and string[r - l] == string[r]:\n",
    "                    r += 1\n",
    "                z[i] = r - l\n",
    "                r -= 1\n",
    "    return z\n"
   ]
  },
  {
   "cell_type": "code",
   "execution_count": 66,
   "metadata": {},
   "outputs": [],
   "source": [
    "def search(text, pattern):\n",
    "    string = pattern + \"$\" + text # Create concatenated string \"P$T\"\n",
    "    #print(len(string))\n",
    "    l = len(string)\n",
    "    z = [0] * l\n",
    "    z = getZarr(string, z)\n",
    "    length = max(z)\n",
    "    k = []\n",
    "    for i in range(l):\n",
    "        if z[i] == length: # if Z[i] (matched region) is equal to pattern\n",
    "            k.append(i - length - 1)\n",
    "    return k"
   ]
  },
  {
   "cell_type": "code",
   "execution_count": 67,
   "metadata": {},
   "outputs": [
    {
     "name": "stdout",
     "output_type": "stream",
     "text": [
      "[71, 110, 216, 369, 403, 450, 733, 781, 897, 1170, 1195, 1218, 1488]\n"
     ]
    }
   ],
   "source": [
    "a = \"14\"\n",
    "file1 = open('samples/sample_'+a, 'r')\n",
    "Lines = file1.readlines()\n",
    "d = []\n",
    "for line in Lines:\n",
    "    line = line.replace(\" \", \"\")\n",
    "    #print(len(line))\n",
    "    d.append(line)\n",
    "\n",
    "text = d[0]\n",
    "pattern = d[1]\n",
    "lines = search(text, pattern)\n",
    "print(lines)\n",
    "with open('output/sol_'+a, 'w') as f:\n",
    "    for l in lines:\n",
    "        f.write(str(l)+'\\n')"
   ]
  },
  {
   "cell_type": "code",
   "execution_count": null,
   "metadata": {},
   "outputs": [],
   "source": []
  }
 ],
 "metadata": {
  "kernelspec": {
   "display_name": "Python 3",
   "language": "python",
   "name": "python3"
  },
  "language_info": {
   "codemirror_mode": {
    "name": "ipython",
    "version": 3
   },
   "file_extension": ".py",
   "mimetype": "text/x-python",
   "name": "python",
   "nbconvert_exporter": "python",
   "pygments_lexer": "ipython3",
   "version": "3.8.3"
  }
 },
 "nbformat": 4,
 "nbformat_minor": 4
}
